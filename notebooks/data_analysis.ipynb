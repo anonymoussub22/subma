{
 "cells": [
  {
   "cell_type": "code",
   "execution_count": 39,
   "metadata": {},
   "outputs": [],
   "source": [
    "from hir.util import create_analysis_dataframe, print_row\n",
    "\n",
    "df_glove = create_analysis_dataframe(\"all_samples_glove.json\")\n",
    "df_roberta = create_analysis_dataframe(\"all_samples_roberta.json\")\n",
    "\n",
    "conf_threshold = .3\n",
    "IOU_NA_LOWER_THRESHOLD = 0.3\n",
    "R_L_THRESHOLD = 0.08\n",
    "IOU_HIGH_THRESHOLD = 0.9"
   ]
  },
  {
   "cell_type": "code",
   "execution_count": 40,
   "metadata": {
    "pycharm": {
     "name": "#%%\n"
    }
   },
   "outputs": [],
   "source": [
    "from hir.util import get_confidence\n",
    "\n",
    "for df in [df_roberta, df_glove]:\n",
    "\n",
    "    ignore_sec_max = False\n",
    "    df[\"conf_hda\"] = get_confidence(df,\n",
    "                                    prob_column=\"hda_pred_all_probs\",\n",
    "                                    prediction_label_column=\"hda_label\",\n",
    "                                    ignore_sec_max=ignore_sec_max)\n",
    "\n",
    "    df[\"conf_full\"] = get_confidence(df,\n",
    "                                     prob_column=\"full_pred_all_probs\",\n",
    "                                     prediction_label_column=\"full_pred_label\",\n",
    "                                     ignore_sec_max=ignore_sec_max)\n",
    "\n",
    "    df[\"conf_mda\"] = get_confidence(df,\n",
    "                                    prob_column=\"mda_pred_all_probs\",\n",
    "                                    prediction_label_column=\"mda_label\",\n",
    "                                    ignore_sec_max=ignore_sec_max)"
   ]
  },
  {
   "cell_type": "code",
   "execution_count": 41,
   "metadata": {
    "pycharm": {
     "name": "#%%\n"
    }
   },
   "outputs": [
    {
     "name": "stdout",
     "output_type": "stream",
     "text": [
      ">>>> roberta <<<<<< \n",
      "\n",
      "\n",
      "The model knows the correct pattern for: 1321 samples.\n",
      "This are 0.49 of all samples.\n",
      "\n",
      "For: 1290 samples or 0.98 of correct_pattern_known,\n",
      "MIR and HIR are also similar.\n",
      "\n",
      "For 1205 or 0.93 of these samples,\n",
      "The model makes also the correct and confident overall prediction.\n",
      "\n",
      "--> The Model knows the correct pattern and recognized it in\n",
      "Overall 0.44350386455649615 of the cases!\n",
      ">>>> glove <<<<<< \n",
      "\n",
      "\n",
      "The model knows the correct pattern for: 892 samples.\n",
      "This are 0.33 of all samples.\n",
      "\n",
      "For: 861 samples or 0.97 of correct_pattern_known,\n",
      "MIR and HIR are also similar.\n",
      "\n",
      "For 750 or 0.87 of these samples,\n",
      "The model makes also the correct and confident overall prediction.\n",
      "\n",
      "--> The Model knows the correct pattern and recognized it in\n",
      "Overall 0.2760397497239602 of the cases!\n"
     ]
    }
   ],
   "source": [
    "# Characteristic 1\n",
    "\n",
    "for df, name in zip([df_roberta, df_glove], [\"roberta\", \"glove\"]):\n",
    "\n",
    "    print(f\">>>> {name} <<<<<< \\n\\n\")\n",
    "\n",
    "    correct_pattern_known = df.query(f\"hda_label == gold_label and conf_hda > {conf_threshold} and \"\n",
    "                                     f\"r_l_mda != 0\")\n",
    "\n",
    "    print(f\"The model knows the correct pattern for: {len(correct_pattern_known)} samples.\\n\"\n",
    "          f\"This are {(len(correct_pattern_known) / len(df)):.2f} of all samples.\\n\")\n",
    "\n",
    "    similar_hir_mir = correct_pattern_known.query(f\"iou_full > {IOU_NA_LOWER_THRESHOLD}\")\n",
    "\n",
    "    print(\n",
    "        f\"For: {len(similar_hir_mir)} samples or {(len(similar_hir_mir) / len(correct_pattern_known)):.2f} \"\n",
    "        f\"of correct_pattern_known,\\n\"\n",
    "        f\"MIR and HIR are also similar.\\n\")\n",
    "\n",
    "    case_1 = similar_hir_mir.query(f\"full_pred_label == gold_label and conf_full > {conf_threshold}\")\n",
    "    print(\n",
    "        f\"For {len(case_1)} or {(len(case_1) / len(similar_hir_mir)):.2f} of these samples,\\n\"\n",
    "        f\"The model makes also the correct and confident overall prediction.\\n\")\n",
    "\n",
    "    print(f\"--> The Model knows the correct pattern and recognized it in\\n\"\n",
    "          f\"Overall {(len(case_1) / len(df))} of the cases!\")"
   ]
  },
  {
   "cell_type": "code",
   "execution_count": 42,
   "metadata": {
    "pycharm": {
     "name": "#%%\n"
    }
   },
   "outputs": [
    {
     "name": "stdout",
     "output_type": "stream",
     "text": [
      ">>>> roberta <<<<<< \n",
      "\n",
      "\n",
      "The model knows the correct pattern for: 1972 samples.\n",
      "This are 0.73 of all samples.\n",
      "\n",
      "For: 34 samples or 0.02 of correct_pattern_known,\n",
      "MIR does not match the HIR, it cannot detect the right pattern\n",
      "\n",
      "For 8 samples or 0.24 of these samples,\n",
      "The model makes the wrong prediction based on a learned pattern.\n",
      "\n",
      "--> The Model knows the correct pattern but recognizes another one \n",
      "overall 0.002944423997055576 of the cases!\n",
      ">>>> glove <<<<<< \n",
      "\n",
      "\n",
      "The model knows the correct pattern for: 1814 samples.\n",
      "This are 0.67 of all samples.\n",
      "\n",
      "For: 33 samples or 0.02 of correct_pattern_known,\n",
      "MIR does not match the HIR, it cannot detect the right pattern\n",
      "\n",
      "For 28 samples or 0.85 of these samples,\n",
      "The model makes the wrong prediction based on a learned pattern.\n",
      "\n",
      "--> The Model knows the correct pattern but recognizes another one \n",
      "overall 0.010305483989694516 of the cases!\n"
     ]
    }
   ],
   "source": [
    "# Characteristic 2\n",
    "\n",
    "for df, name in zip([df_roberta, df_glove], [\"roberta\", \"glove\"]):\n",
    "\n",
    "    print(f\">>>> {name} <<<<<< \\n\\n\")\n",
    "\n",
    "    correct_pattern_known = df.query(f\"hda_label == gold_label and conf_hda > {conf_threshold}\")\n",
    "\n",
    "    print(f\"The model knows the correct pattern for: {len(correct_pattern_known)} samples.\\n\"\n",
    "          f\"This are {(len(correct_pattern_known) / len(df)):.2f} of all samples.\\n\")\n",
    "\n",
    "    different_pattern_detected = correct_pattern_known.query(f\"iou_full <= {IOU_NA_LOWER_THRESHOLD}\")\n",
    "\n",
    "    print(\n",
    "        f\"For: {len(different_pattern_detected)} samples \"\n",
    "        f\"or {(len(different_pattern_detected) / len(correct_pattern_known)):.2f} \"\n",
    "        f\"of correct_pattern_known,\\n\"\n",
    "        f\"MIR does not match the HIR, it cannot detect the right pattern\\n\")\n",
    "\n",
    "    wrong_pattern_recognized = different_pattern_detected.query(f\"full_pred_label != gold_label\")\n",
    "\n",
    "    print(\n",
    "        f\"For {len(wrong_pattern_recognized)} samples \"\n",
    "        f\"or {(len(wrong_pattern_recognized) / len(different_pattern_detected)):.2f} of these samples,\\n\"\n",
    "        f\"The model makes the wrong prediction based on a learned pattern.\\n\")\n",
    "\n",
    "    print(\"--> The Model knows the correct pattern but recognizes another one \\n\"\n",
    "          f\"overall {(len(wrong_pattern_recognized) / len(df))} of the cases!\")"
   ]
  },
  {
   "cell_type": "code",
   "execution_count": 43,
   "metadata": {
    "pycharm": {
     "name": "#%%\n"
    }
   },
   "outputs": [
    {
     "name": "stdout",
     "output_type": "stream",
     "text": [
      ">>>> roberta <<<<<< \n",
      "\n",
      "\n",
      "The model does not know the correct pattern for: 667 samples.\n",
      "This are 0.24549135075450865 of all samples.\n",
      "\n",
      "For 67 or 0.10 of these samples,\n",
      "The model uses the same pattern as human, but makes wrong classification.\n",
      "\n",
      "--> The Model does not knows the correct pattern and is confused at labelling\n",
      "Overall 0.02465955097534045 of the cases!\n",
      ">>>> glove <<<<<< \n",
      "\n",
      "\n",
      "The model does not know the correct pattern for: 799 samples.\n",
      "This are 0.29407434670592564 of all samples.\n",
      "\n",
      "For 68 or 0.09 of these samples,\n",
      "The model uses the same pattern as human, but makes wrong classification.\n",
      "\n",
      "--> The Model does not knows the correct pattern and is confused at labelling\n",
      "Overall 0.025027603974972397 of the cases!\n"
     ]
    }
   ],
   "source": [
    "# Characteristic 3\n",
    "\n",
    "for df, name in zip([df_roberta, df_glove], [\"roberta\", \"glove\"]):\n",
    "\n",
    "    print(f\">>>> {name} <<<<<< \\n\\n\")\n",
    "\n",
    "    correct_pattern_not_known = df.query(f\"hda_label != gold_label\")\n",
    "\n",
    "    print(f\"The model does not know the correct pattern for: {len(correct_pattern_not_known)} samples.\\n\"\n",
    "          f\"This are {(len(correct_pattern_not_known) / len(df))} of all samples.\\n\")\n",
    "\n",
    "    confused = correct_pattern_not_known.query(f\"iou_full >= {IOU_HIGH_THRESHOLD}\")\n",
    "    print(\n",
    "        f\"For {len(confused)} or {(len(confused) / len(correct_pattern_not_known)):.2f} of these samples,\\n\"\n",
    "        f\"The model uses the same pattern as human, but makes wrong classification.\\n\")\n",
    "\n",
    "    print(f\"--> The Model does not knows the correct pattern and is confused at labelling\\n\"\n",
    "          f\"Overall {(len(confused) / len(df))} of the cases!\")"
   ]
  },
  {
   "cell_type": "code",
   "execution_count": 44,
   "metadata": {
    "pycharm": {
     "name": "#%%\n"
    }
   },
   "outputs": [
    {
     "name": "stdout",
     "output_type": "stream",
     "text": [
      ">>>> roberta <<<<<< \n",
      "\n",
      "\n",
      "Overall 95 -> 0.03 of the cases!\n",
      "Correct: Overall 84 -> 0.03 of the cases!\n",
      "Wrong  : Overall 11 -> 0.00 of the cases!\n",
      "Test  : Overall 77 -> 0.03 of the cases!\n",
      ">>>> glove <<<<<< \n",
      "\n",
      "\n",
      "Overall 112 -> 0.04 of the cases!\n",
      "Correct: Overall 94 -> 0.03 of the cases!\n",
      "Wrong  : Overall 18 -> 0.01 of the cases!\n",
      "Test  : Overall 89 -> 0.03 of the cases!\n"
     ]
    }
   ],
   "source": [
    "# Characteristic 4\n",
    "\n",
    "def custom_print(data_frame, prefix=\"\"):\n",
    "    print(f\"{prefix}Overall {len(data_frame)} -> {(len(data_frame) / len(df)):.2f} of the cases!\")\n",
    "\n",
    "for df, name in zip([df_roberta, df_glove], [\"roberta\", \"glove\"]):\n",
    "\n",
    "    print(f\">>>> {name} <<<<<< \\n\\n\")\n",
    "\n",
    "    shortcuts = df.query(f\"r_l_mda == 0\")\n",
    "    reasonable_shortcuts = shortcuts.query(f\"iou_na == 1\")\n",
    "    custom_print(reasonable_shortcuts)\n",
    "    custom_print(reasonable_shortcuts.query(\"full_pred_label == gold_label\"), prefix=\"Correct: \")\n",
    "    custom_print(reasonable_shortcuts.query(\"full_pred_label != gold_label\"), prefix=\"Wrong  : \")\n",
    "    custom_print(reasonable_shortcuts.query(\n",
    "        f\"hda_label == gold_label and conf_hda > {conf_threshold} and \"\n",
    "        f\"full_pred_label == gold_label and conf_full > {conf_threshold}\"\n",
    "        ),\n",
    "        prefix=\"Test  : \")"
   ]
  },
  {
   "cell_type": "code",
   "execution_count": 45,
   "metadata": {
    "pycharm": {
     "name": "#%%\n"
    }
   },
   "outputs": [
    {
     "name": "stdout",
     "output_type": "stream",
     "text": [
      ">>>> roberta <<<<<< \n",
      "\n",
      "\n",
      "The model does not know the correct pattern for: 667 samples.\n",
      "This are 0.25 of all samples.\n",
      "\n",
      "For: 39 samples or 0.06 of correct_pattern_not_known,\n",
      "MIR and HIR are different.\n",
      "\n",
      "For 11 or 0.28 of these samples,\n",
      "The model is confident on its prediction based on the wrong pattern.\n",
      "\n",
      "--> The Model does not knows the correct pattern and uses different one for prediction\n",
      "Overall 0.004048582995951417 of the cases!\n",
      ">>>> glove <<<<<< \n",
      "\n",
      "\n",
      "The model does not know the correct pattern for: 799 samples.\n",
      "This are 0.29 of all samples.\n",
      "\n",
      "For: 40 samples or 0.05 of correct_pattern_not_known,\n",
      "MIR and HIR are different.\n",
      "\n",
      "For 8 or 0.20 of these samples,\n",
      "The model is confident on its prediction based on the wrong pattern.\n",
      "\n",
      "--> The Model does not knows the correct pattern and uses different one for prediction\n",
      "Overall 0.002944423997055576 of the cases!\n"
     ]
    }
   ],
   "source": [
    "# Characteristic 5\n",
    "\n",
    "for df, name in zip([df_roberta, df_glove], [\"roberta\", \"glove\"]):\n",
    "\n",
    "    print(f\">>>> {name} <<<<<< \\n\\n\")\n",
    "\n",
    "    correct_pattern_not_known = df.query(f\"hda_label != gold_label\")\n",
    "\n",
    "    print(f\"The model does not know the correct pattern for: {len(correct_pattern_not_known)} samples.\\n\"\n",
    "          f\"This are {(len(correct_pattern_not_known) / len(df)):.2f} of all samples.\\n\")\n",
    "\n",
    "    different_to_hir = correct_pattern_not_known.query(f\"iou_full < {IOU_NA_LOWER_THRESHOLD}\")\n",
    "\n",
    "    print(\n",
    "        f\"For: {len(different_to_hir)} samples or {(len(different_to_hir) / len(correct_pattern_not_known)):.2f} of correct_pattern_not_known,\\n\"\n",
    "        f\"MIR and HIR are different.\\n\")\n",
    "\n",
    "    high_overall_confidence = different_to_hir.query(f\"conf_mda > {conf_threshold} and r_l_mda < 0.5\")\n",
    "    print(\n",
    "        f\"For {len(high_overall_confidence)} or {(len(high_overall_confidence) / len(different_to_hir)):.2f} of these samples,\\n\"\n",
    "        f\"The model is confident on its prediction based on the wrong pattern.\\n\")\n",
    "\n",
    "    print(f\"--> The Model does not knows the correct pattern and uses different one for prediction\\n\"\n",
    "          f\"Overall {(len(high_overall_confidence) / len(df))} of the cases!\")"
   ]
  },
  {
   "cell_type": "code",
   "execution_count": 46,
   "metadata": {
    "pycharm": {
     "name": "#%%\n"
    }
   },
   "outputs": [
    {
     "name": "stdout",
     "output_type": "stream",
     "text": [
      ">>>> roberta <<<<<< \n",
      "\n",
      "\n",
      "The model does not know the correct pattern for: 667 samples.\n",
      "This are 0.25 of all samples.\n",
      "\n",
      "For 305 or 0.46 of these samples,\n",
      "The model has no focus points.\n",
      "\n",
      "-->The Model does not knows the correct pattern and does not use any other detectable pattern\n",
      "Overall 0.11 of the cases!\n",
      "\n",
      ">>>> glove <<<<<< \n",
      "\n",
      "\n",
      "The model does not know the correct pattern for: 799 samples.\n",
      "This are 0.29 of all samples.\n",
      "\n",
      "For 271 or 0.34 of these samples,\n",
      "The model has no focus points.\n",
      "\n",
      "-->The Model does not knows the correct pattern and does not use any other detectable pattern\n",
      "Overall 0.10 of the cases!\n",
      "\n"
     ]
    }
   ],
   "source": [
    "# Characteristic 6\n",
    "for df, name in zip([df_roberta, df_glove], [\"roberta\", \"glove\"]):\n",
    "\n",
    "    print(f\">>>> {name} <<<<<< \\n\\n\")\n",
    "\n",
    "    correct_pattern_not_known = df.query(f\"hda_label != gold_label\")\n",
    "\n",
    "    print(f\"The model does not know the correct pattern for: {len(correct_pattern_not_known)} samples.\\n\"\n",
    "          f\"This are {(len(correct_pattern_not_known) / len(df)):.2f} of all samples.\\n\")\n",
    "\n",
    "    # Model does not use a pattern / it does not set any focus -> it used almost the whole sentence as input\n",
    "    no_focus = correct_pattern_not_known.query(f\"r_l_mda >= {R_L_THRESHOLD}\")\n",
    "    print(\n",
    "        f\"For {len(no_focus)} or {(len(no_focus) / len(correct_pattern_not_known)):.2f} of these samples,\\n\"\n",
    "        f\"The model has no focus points.\\n\")\n",
    "\n",
    "    print(f\"-->The Model does not knows the correct pattern and does \"\n",
    "          f\"not use any other detectable pattern\\n\"\n",
    "          f\"Overall {(len(no_focus) / len(df)):.2f} of the cases!\")\n",
    "    print()\n"
   ]
  },
  {
   "cell_type": "code",
   "execution_count": 47,
   "metadata": {
    "pycharm": {
     "name": "#%%\n"
    }
   },
   "outputs": [
    {
     "name": "stdout",
     "output_type": "stream",
     "text": [
      ">>>> roberta <<<<<< \n",
      "\n",
      "\n",
      "Overall 42 -> 0.015458225984541774 of the cases!\n",
      ">>>> glove <<<<<< \n",
      "\n",
      "\n",
      "Overall 24 -> 0.008833271991166729 of the cases!\n"
     ]
    }
   ],
   "source": [
    "# Characteristic 7\n",
    "\n",
    "for df, name in zip([df_roberta, df_glove], [\"roberta\", \"glove\"]):\n",
    "\n",
    "    print(f\">>>> {name} <<<<<< \\n\\n\")\n",
    "\n",
    "    correct_with_wrong_pattern = df.query(f\"full_pred_label == gold_label and \"\n",
    "                                          f\"iou_full < {IOU_NA_LOWER_THRESHOLD}\")\n",
    "    print(f\"Overall {len(correct_with_wrong_pattern)} \"\n",
    "          f\"-> {(len(correct_with_wrong_pattern) / len(df))} of the cases!\")\n"
   ]
  },
  {
   "cell_type": "code",
   "execution_count": 48,
   "metadata": {
    "pycharm": {
     "name": "#%%\n"
    }
   },
   "outputs": [
    {
     "name": "stdout",
     "output_type": "stream",
     "text": [
      ">>>> roberta <<<<<< \n",
      "\n",
      "\n",
      "Overall 725 -> 0.27 of the cases!\n",
      "Correct: Overall 619 -> 0.23 of the cases!\n",
      "Wrong  : Overall 106 -> 0.04 of the cases!\n",
      ">>>> glove <<<<<< \n",
      "\n",
      "\n",
      "Overall 1114 -> 0.41 of the cases!\n",
      "Correct: Overall 888 -> 0.33 of the cases!\n",
      "Wrong  : Overall 226 -> 0.08 of the cases!\n"
     ]
    }
   ],
   "source": [
    "# Characteristic 8\n",
    "\n",
    "for df, name in zip([df_roberta, df_glove], [\"roberta\", \"glove\"]):\n",
    "\n",
    "    print(f\">>>> {name} <<<<<< \\n\\n\")\n",
    "\n",
    "    shortcuts = df.query(f\"r_l_mda == 0\")\n",
    "    not_reasonable_shortcuts = shortcuts.query(f\"iou_na < 1\")\n",
    "    custom_print(not_reasonable_shortcuts)\n",
    "    custom_print(not_reasonable_shortcuts.query(\"full_pred_label == gold_label\"), prefix=\"Correct: \")\n",
    "    custom_print(not_reasonable_shortcuts.query(\"full_pred_label != gold_label\"), prefix=\"Wrong  : \")"
   ]
  },
  {
   "cell_type": "code",
   "execution_count": 49,
   "metadata": {
    "pycharm": {
     "name": "#%%\n"
    }
   },
   "outputs": [
    {
     "name": "stdout",
     "output_type": "stream",
     "text": [
      ">>>> roberta <<<<<< \n",
      "\n",
      "\n",
      "F1_full=0.8710801393728224\n",
      "F1_hda=0.7995575221238939\n",
      ">>>> glove <<<<<< \n",
      "\n",
      "\n",
      "F1_full=0.7948324939785416\n",
      "F1_hda=0.7573620904189133\n"
     ]
    }
   ],
   "source": [
    "# F1 Scores\n",
    "\n",
    "for df, name in zip([df_roberta, df_glove], [\"roberta\", \"glove\"]):\n",
    "\n",
    "    print(f\">>>> {name} <<<<<< \\n\\n\")\n",
    "    from sklearn.metrics import f1_score\n",
    "    allowed_labels = list(set(df[\"gold_label\"].values.tolist()) - {\"Other\"})\n",
    "    f1_full = f1_score(df[\"gold_label\"], df[\"full_pred_label\"], average=\"micro\", labels=allowed_labels)\n",
    "    f1_hda = f1_score(df[\"gold_label\"], df[\"hda_label\"], average=\"micro\", labels=allowed_labels)\n",
    "    #assert f1_full == f1_mda\n",
    "    print(f\"F1_full={f1_full}\")\n",
    "    print(f\"F1_hda={f1_hda}\")"
   ]
  },
  {
   "cell_type": "code",
   "execution_count": 51,
   "metadata": {
    "pycharm": {
     "name": "#%%\n"
    }
   },
   "outputs": [],
   "source": [
    "# KDA Plot\n",
    "import numpy as np\n",
    "import plotly\n",
    "import plotly.figure_factory as ff\n",
    "\n",
    "df_glove = create_analysis_dataframe(\"all_samples_glove.json\")\n",
    "df_roberta = create_analysis_dataframe(\"all_samples_roberta.json\")\n",
    "dfs= [df_glove, df_roberta]\n",
    "\n",
    "for cur_df in dfs:\n",
    "    cur_df[\"conf_hda\"] = get_confidence(cur_df,\n",
    "                                prob_column=\"hda_pred_all_probs\",\n",
    "                                prediction_label_column=\"hda_label\",\n",
    "                                ignore_sec_max=ignore_sec_max)\n",
    "\n",
    "    cur_df[\"conf_full\"] = get_confidence(cur_df,\n",
    "                                 prob_column=\"full_pred_all_probs\",\n",
    "                                 prediction_label_column=\"full_pred_label\",\n",
    "                                 ignore_sec_max=ignore_sec_max)\n",
    "\n",
    "    cur_df[\"conf_mda\"] = get_confidence(cur_df,\n",
    "                                prob_column=\"mda_pred_all_probs\",\n",
    "                                prediction_label_column=\"mda_label\",\n",
    "                                ignore_sec_max=ignore_sec_max)\n",
    "\n",
    "def create_kde_plot(df):\n",
    "    hist_data = [df[\"conf_full\"].to_numpy(),df[\"conf_hda\"].to_numpy(), df[\"conf_mda\"].to_numpy()]\n",
    "    hist_data = [np.clip(a, 0, 1) for a in hist_data]\n",
    "\n",
    "    group_labels=[\"Full\",\"HIR\", \"MIR\"]\n",
    "\n",
    "    colors = ['rgb(117,131,255)', 'rgb(65,196,94)', 'rgb(214,69,51)']\n",
    "    fig= ff.create_distplot(hist_data, group_labels, bin_size=.1, show_rug=False, show_hist=False, colors=colors)\n",
    "    fig.update_xaxes(title=\"Model Confidence\", range=[0,1], gridwidth=1, gridcolor=\"darkgray\", zerolinecolor=\"black\", title_standoff=1)\n",
    "    fig.update_yaxes(title=\"Density\", gridwidth=1, gridcolor=\"darkgray\", zerolinecolor=\"black\", title_standoff=10)\n",
    "\n",
    "    fig.update_traces(line=dict(width=3))\n",
    "    fig.update_layout(width=300, height=220,\n",
    "                      template=\"plotly_white\",\n",
    "                      font= dict(family=\"Times Roman\",\n",
    "                                 color=\"black\"\n",
    "                                 ),\n",
    "                      legend=dict(\n",
    "                          traceorder=\"grouped\",\n",
    "                          title=\"Prediction: \",\n",
    "                          bgcolor=\"White\",\n",
    "                          orientation=\"h\",\n",
    "                          yanchor=\"bottom\",\n",
    "                          y=1.02,\n",
    "                          xanchor=\"left\",\n",
    "                          x=0\n",
    "                      ),\n",
    "                      margin=dict(\n",
    "                          l=0,\n",
    "                          r=0,\n",
    "                          b=0,\n",
    "                          t=0\n",
    "                      )\n",
    "                      )\n",
    "\n",
    "    #fig.update_layout(barmode='stack')\n",
    "    fig.update_traces(\n",
    "        line=dict(dash=\"dot\", width=3),\n",
    "        selector=dict(type=\"scatter\", mode=\"lines\", name=\"Full\")\n",
    "    )\n",
    "    fig.update_traces(\n",
    "        line=dict(dash=\"dashdot\", width=3),\n",
    "        selector=dict(type=\"scatter\", mode=\"lines\", name=\"HIR\")\n",
    "    )\n",
    "    fig.update_traces(\n",
    "        line=dict(dash=\"dash\", width=3),\n",
    "        selector=dict(type=\"scatter\", mode=\"lines\", name=\"MIR\")\n",
    "    )\n",
    "    fig.show()\n"
   ]
  }
 ],
 "metadata": {
  "kernelspec": {
   "display_name": "Python 3 (ipykernel)",
   "language": "python",
   "name": "python3"
  },
  "language_info": {
   "codemirror_mode": {
    "name": "ipython",
    "version": 3
   },
   "file_extension": ".py",
   "mimetype": "text/x-python",
   "name": "python",
   "nbconvert_exporter": "python",
   "pygments_lexer": "ipython3",
   "version": "3.8.12"
  }
 },
 "nbformat": 4,
 "nbformat_minor": 1
}